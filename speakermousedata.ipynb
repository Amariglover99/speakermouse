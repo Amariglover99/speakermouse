{
 "cells": [
  {
   "cell_type": "code",
   "execution_count": 9,
   "id": "6583447a",
   "metadata": {},
   "outputs": [
    {
     "ename": "SyntaxError",
     "evalue": "invalid syntax (1378425182.py, line 6)",
     "output_type": "error",
     "traceback": [
      "\u001b[1;36m  File \u001b[1;32m\"C:\\Users\\Amari Glover\\AppData\\Local\\Temp\\ipykernel_7628\\1378425182.py\"\u001b[1;36m, line \u001b[1;32m6\u001b[0m\n\u001b[1;33m    def visualize(speakermousessounddata.wav: str):\u001b[0m\n\u001b[1;37m                                        ^\u001b[0m\n\u001b[1;31mSyntaxError\u001b[0m\u001b[1;31m:\u001b[0m invalid syntax\n"
     ]
    }
   ],
   "source": [
    "import matplotlib.pyplot as plt\n",
    "import numpy as np\n",
    "import wave, sys\n",
    " \n",
    "# shows the sound waves\n",
    "def visualize(speakermousessounddata.wav: str):\n",
    "   \n",
    "    # reading the audio file\n",
    "    raw = wave.open('speakermousesounddata.wav')\n",
    "     \n",
    "    # reads all the frames\n",
    "    # -1 indicates all or max frames\n",
    "    signal = raw.readframes(-1)\n",
    "    signal = np.frombuffer(signal, dtype =\"int16\")\n",
    "     \n",
    "    # gets the frame rate\n",
    "    f_rate = raw.getframerate()\n",
    " \n",
    "    # to Plot the x-axis in seconds\n",
    "    # you need get the frame rate\n",
    "    # and divide by size of your signal\n",
    "    # to create a Time Vector\n",
    "    # spaced linearly with the size\n",
    "    # of the audio file\n",
    "    time = np.linspace(\n",
    "        0, # start\n",
    "        len(signal) / f_rate,\n",
    "        num = len(signal)\n",
    "    )\n",
    " \n",
    "    # using matplotlib to plot\n",
    "    # creates a new figure\n",
    "    plt.figure(1)\n",
    "     \n",
    "    # title of the plot\n",
    "    plt.title(\"Sound Wave\")\n",
    "     \n",
    "    # label of x-axis\n",
    "    plt.xlabel(\"Time\")\n",
    "    \n",
    "    # actual plotting\n",
    "    plt.plot(time, signal)\n",
    "     \n",
    "    # shows the plot\n",
    "    # in new window\n",
    "    plt.show()\n",
    " \n",
    "    # you can also save\n",
    "    # the plot using\n",
    "    # plt.savefig('filename')\n",
    " \n",
    " \n",
    "if __name__ == \"__main__\":\n",
    "   \n",
    "    # gets the command line Value\n",
    "    path = sys.argv[1]\n",
    " \n",
    "    visualize(path)"
   ]
  },
  {
   "cell_type": "code",
   "execution_count": null,
   "id": "6aa34745",
   "metadata": {},
   "outputs": [],
   "source": []
  }
 ],
 "metadata": {
  "kernelspec": {
   "display_name": "Python 3 (ipykernel)",
   "language": "python",
   "name": "python3"
  },
  "language_info": {
   "codemirror_mode": {
    "name": "ipython",
    "version": 3
   },
   "file_extension": ".py",
   "mimetype": "text/x-python",
   "name": "python",
   "nbconvert_exporter": "python",
   "pygments_lexer": "ipython3",
   "version": "3.9.13"
  }
 },
 "nbformat": 4,
 "nbformat_minor": 5
}
